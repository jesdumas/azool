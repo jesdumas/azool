{
 "cells": [
  {
   "cell_type": "code",
   "execution_count": 1,
   "metadata": {
    "collapsed": true
   },
   "outputs": [],
   "source": [
    "import numpy as np\n",
    "np.random.seed(200)"
   ]
  },
  {
   "cell_type": "code",
   "execution_count": 36,
   "metadata": {
    "collapsed": true
   },
   "outputs": [],
   "source": [
    "the_bag = ['red','blue','cerulean','black','yellow'] * 20"
   ]
  },
  {
   "cell_type": "code",
   "execution_count": 3,
   "metadata": {
    "collapsed": false
   },
   "outputs": [
    {
     "name": "stdout",
     "output_type": "stream",
     "text": [
      "['red', 'blue', 'cerulean', 'black', 'yellow']\n",
      "['yellow', 'cerulean', 'cerulean', 'cerulean', 'blue']\n"
     ]
    }
   ],
   "source": [
    "print(bag[0:5])\n",
    "np.random.shuffle(bag)\n",
    "print(bag[0:5])"
   ]
  },
  {
   "cell_type": "code",
   "execution_count": 4,
   "metadata": {
    "collapsed": false
   },
   "outputs": [],
   "source": [
    "factory_list = [[],[],[],[]]"
   ]
  },
  {
   "cell_type": "code",
   "execution_count": 5,
   "metadata": {
    "collapsed": false
   },
   "outputs": [
    {
     "data": {
      "text/plain": [
       "array([0, 1, 2, 3])"
      ]
     },
     "execution_count": 5,
     "metadata": {},
     "output_type": "execute_result"
    }
   ],
   "source": [
    "np.arange(len(factory_list))"
   ]
  },
  {
   "cell_type": "code",
   "execution_count": 7,
   "metadata": {
    "collapsed": false
   },
   "outputs": [
    {
     "data": {
      "text/plain": [
       "[]"
      ]
     },
     "execution_count": 7,
     "metadata": {},
     "output_type": "execute_result"
    }
   ],
   "source": [
    "factory_list[0]"
   ]
  },
  {
   "cell_type": "code",
   "execution_count": 8,
   "metadata": {
    "collapsed": false
   },
   "outputs": [],
   "source": [
    "def fill_factories(factories, bag):\n",
    "    np.random.shuffle(bag)\n",
    "    for i in np.arange(len(factories)):\n",
    "        print(factories[i])\n",
    "        print(i)\n",
    "        factories[i] = factories[i] + bag[-4:]\n",
    "        bag = bag[:-4]\n",
    "        \n",
    "    return factories, bag\n",
    "    "
   ]
  },
  {
   "cell_type": "code",
   "execution_count": 12,
   "metadata": {
    "collapsed": false
   },
   "outputs": [
    {
     "name": "stdout",
     "output_type": "stream",
     "text": [
      "['black', 'red', 'yellow', 'black']\n",
      "0\n",
      "['blue', 'cerulean', 'blue', 'blue']\n",
      "1\n",
      "['cerulean', 'black', 'red', 'yellow']\n",
      "2\n",
      "['yellow', 'yellow', 'black', 'yellow']\n",
      "3\n"
     ]
    }
   ],
   "source": [
    "factory_list, bag = fill_factories(factory_list, bag)"
   ]
  },
  {
   "cell_type": "code",
   "execution_count": 13,
   "metadata": {
    "collapsed": false
   },
   "outputs": [
    {
     "data": {
      "text/plain": [
       "[['black',\n",
       "  'red',\n",
       "  'yellow',\n",
       "  'black',\n",
       "  'yellow',\n",
       "  'cerulean',\n",
       "  'cerulean',\n",
       "  'yellow'],\n",
       " ['blue', 'cerulean', 'blue', 'blue', 'blue', 'red', 'blue', 'red'],\n",
       " ['cerulean', 'black', 'red', 'yellow', 'black', 'red', 'red', 'black'],\n",
       " ['yellow', 'yellow', 'black', 'yellow', 'red', 'cerulean', 'red', 'blue']]"
      ]
     },
     "execution_count": 13,
     "metadata": {},
     "output_type": "execute_result"
    }
   ],
   "source": [
    "factory_list"
   ]
  },
  {
   "cell_type": "code",
   "execution_count": 14,
   "metadata": {
    "collapsed": false
   },
   "outputs": [
    {
     "name": "stdout",
     "output_type": "stream",
     "text": [
      "68\n",
      "68\n"
     ]
    }
   ],
   "source": [
    "print(len(bag))\n",
    "factory = np.random.choice(bag, size=4, replace=False)\n",
    "print(len(bag))"
   ]
  },
  {
   "cell_type": "code",
   "execution_count": 53,
   "metadata": {
    "collapsed": false
   },
   "outputs": [],
   "source": [
    "class Factory(object):\n",
    "    \"Does factory stuff\"\n",
    "    \n",
    "    \n",
    "    def __init__(self, tile_list):\n",
    "        self.tile_list = []\n",
    "        \n",
    "    def display_tiles(self):\n",
    "        # add pretty printed tiles in grid\n",
    "        print(tile_list)\n",
    "        \n",
    "    def fill_factory(bag):\n",
    "        np.random.shuffle(bag)\n",
    "        for i in range(0,4):\n",
    "            self.tile_list[i] = self.tile_list[i] + bag[-4:]\n",
    "            bag = bag[:-4]\n",
    "        return self.tile_list\n",
    "        \n",
    "        #return tile_list, bag\n",
    "    "
   ]
  },
  {
   "cell_type": "code",
   "execution_count": 51,
   "metadata": {
    "collapsed": false
   },
   "outputs": [],
   "source": [
    "factory_test = Factory"
   ]
  },
  {
   "cell_type": "code",
   "execution_count": 52,
   "metadata": {
    "collapsed": false
   },
   "outputs": [
    {
     "ename": "NameError",
     "evalue": "name 'self' is not defined",
     "output_type": "error",
     "traceback": [
      "\u001b[0;31m---------------------------------------------------------------------------\u001b[0m",
      "\u001b[0;31mNameError\u001b[0m                                 Traceback (most recent call last)",
      "\u001b[0;32m<ipython-input-52-d7c55501c803>\u001b[0m in \u001b[0;36m<module>\u001b[0;34m()\u001b[0m\n\u001b[0;32m----> 1\u001b[0;31m \u001b[0mfactory_test\u001b[0m\u001b[0;34m.\u001b[0m\u001b[0mfill_factory\u001b[0m\u001b[0;34m(\u001b[0m\u001b[0mthe_bag\u001b[0m\u001b[0;34m)\u001b[0m\u001b[0;34m\u001b[0m\u001b[0m\n\u001b[0m",
      "\u001b[0;32m<ipython-input-50-b1acd8b3e236>\u001b[0m in \u001b[0;36mfill_factory\u001b[0;34m(bag)\u001b[0m\n\u001b[1;32m     13\u001b[0m         \u001b[0mnp\u001b[0m\u001b[0;34m.\u001b[0m\u001b[0mrandom\u001b[0m\u001b[0;34m.\u001b[0m\u001b[0mshuffle\u001b[0m\u001b[0;34m(\u001b[0m\u001b[0mbag\u001b[0m\u001b[0;34m)\u001b[0m\u001b[0;34m\u001b[0m\u001b[0m\n\u001b[1;32m     14\u001b[0m         \u001b[0;32mfor\u001b[0m \u001b[0mi\u001b[0m \u001b[0;32min\u001b[0m \u001b[0mrange\u001b[0m\u001b[0;34m(\u001b[0m\u001b[0;36m0\u001b[0m\u001b[0;34m,\u001b[0m\u001b[0;36m4\u001b[0m\u001b[0;34m)\u001b[0m\u001b[0;34m:\u001b[0m\u001b[0;34m\u001b[0m\u001b[0m\n\u001b[0;32m---> 15\u001b[0;31m             \u001b[0mself\u001b[0m\u001b[0;34m.\u001b[0m\u001b[0mtile_list\u001b[0m\u001b[0;34m[\u001b[0m\u001b[0mi\u001b[0m\u001b[0;34m]\u001b[0m \u001b[0;34m=\u001b[0m \u001b[0mself\u001b[0m\u001b[0;34m.\u001b[0m\u001b[0mtile_list\u001b[0m\u001b[0;34m[\u001b[0m\u001b[0mi\u001b[0m\u001b[0;34m]\u001b[0m \u001b[0;34m+\u001b[0m \u001b[0mbag\u001b[0m\u001b[0;34m[\u001b[0m\u001b[0;34m-\u001b[0m\u001b[0;36m4\u001b[0m\u001b[0;34m:\u001b[0m\u001b[0;34m]\u001b[0m\u001b[0;34m\u001b[0m\u001b[0m\n\u001b[0m\u001b[1;32m     16\u001b[0m             \u001b[0mbag\u001b[0m \u001b[0;34m=\u001b[0m \u001b[0mbag\u001b[0m\u001b[0;34m[\u001b[0m\u001b[0;34m:\u001b[0m\u001b[0;34m-\u001b[0m\u001b[0;36m4\u001b[0m\u001b[0;34m]\u001b[0m\u001b[0;34m\u001b[0m\u001b[0m\n\u001b[1;32m     17\u001b[0m         \u001b[0;32mreturn\u001b[0m \u001b[0mself\u001b[0m\u001b[0;34m.\u001b[0m\u001b[0mtile_list\u001b[0m\u001b[0;34m\u001b[0m\u001b[0m\n",
      "\u001b[0;31mNameError\u001b[0m: name 'self' is not defined"
     ]
    }
   ],
   "source": [
    "factory_test.fill_factory(the_bag)"
   ]
  },
  {
   "cell_type": "code",
   "execution_count": 23,
   "metadata": {
    "collapsed": false
   },
   "outputs": [
    {
     "data": {
      "text/plain": [
       "['blue',\n",
       " 'cerulean',\n",
       " 'cerulean',\n",
       " 'cerulean',\n",
       " 'black',\n",
       " 'cerulean',\n",
       " 'blue',\n",
       " 'yellow',\n",
       " 'red',\n",
       " 'black',\n",
       " 'yellow',\n",
       " 'black',\n",
       " 'red',\n",
       " 'red',\n",
       " 'blue',\n",
       " 'cerulean',\n",
       " 'blue',\n",
       " 'cerulean',\n",
       " 'black',\n",
       " 'black',\n",
       " 'yellow',\n",
       " 'black',\n",
       " 'red',\n",
       " 'black',\n",
       " 'cerulean',\n",
       " 'blue',\n",
       " 'yellow',\n",
       " 'black',\n",
       " 'black',\n",
       " 'yellow',\n",
       " 'yellow',\n",
       " 'black',\n",
       " 'cerulean',\n",
       " 'yellow',\n",
       " 'cerulean',\n",
       " 'red',\n",
       " 'red',\n",
       " 'black',\n",
       " 'yellow',\n",
       " 'red',\n",
       " 'yellow',\n",
       " 'yellow',\n",
       " 'cerulean',\n",
       " 'blue',\n",
       " 'yellow',\n",
       " 'cerulean',\n",
       " 'blue',\n",
       " 'yellow',\n",
       " 'yellow',\n",
       " 'blue',\n",
       " 'cerulean',\n",
       " 'red',\n",
       " 'red',\n",
       " 'blue',\n",
       " 'blue',\n",
       " 'cerulean',\n",
       " 'red',\n",
       " 'blue',\n",
       " 'red',\n",
       " 'black',\n",
       " 'blue',\n",
       " 'blue',\n",
       " 'cerulean',\n",
       " 'blue',\n",
       " 'black',\n",
       " 'cerulean',\n",
       " 'red',\n",
       " 'black']"
      ]
     },
     "execution_count": 23,
     "metadata": {},
     "output_type": "execute_result"
    }
   ],
   "source": [
    "bag"
   ]
  },
  {
   "cell_type": "code",
   "execution_count": null,
   "metadata": {
    "collapsed": true
   },
   "outputs": [],
   "source": []
  }
 ],
 "metadata": {
  "kernelspec": {
   "display_name": "Python 3",
   "language": "python",
   "name": "python3"
  },
  "language_info": {
   "codemirror_mode": {
    "name": "ipython",
    "version": 3
   },
   "file_extension": ".py",
   "mimetype": "text/x-python",
   "name": "python",
   "nbconvert_exporter": "python",
   "pygments_lexer": "ipython3",
   "version": "3.6.0"
  }
 },
 "nbformat": 4,
 "nbformat_minor": 2
}
